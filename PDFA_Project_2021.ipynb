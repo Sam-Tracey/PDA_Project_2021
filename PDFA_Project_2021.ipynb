{
 "cells": [
  {
   "cell_type": "markdown",
   "id": "649e078d-70cc-41df-ada1-db5825522ab3",
   "metadata": {},
   "source": [
    "# Programming For Data Analysis Project 2021\n",
    "\n",
    "## Student Name: Sam Tracey\n",
    "## Student ID: G00398245\n",
    "## Date: December 2021\n",
    "\n",
    "***\n",
    "\n",
    "### Problem Statement.\n",
    "\n",
    "For this project you must create a data set by simulating a real-world phenomenon of\n",
    "your choosing. You may pick any phenomenon you wish – you might pick one that is\n",
    "of interest to you in your personal or professional life. Then, rather than collect data\n",
    "related to the phenomenon, you should model and synthesise such data using Python.\n",
    "We suggest you use the numpy.random package for this purpose.\n",
    "Specifically, in this project you should:\n",
    "\n",
    "- Choose a real-world phenomenon that can be measured and for which you could collect at least one-hundred data points across at least four different variables.\n",
    "- Investigate the types of variables involved, their likely distributions, and their relationships with each other.\n",
    "- Synthesise/simulate a data set as closely matching their properties as possible.\n",
    "- Detail your research and implement the simulation in a Jupyter notebook – the data set itself can simply be displayed in an output cell within the notebook.\n",
    "\n",
    "***\n",
    "\n",
    "### Choice of a Real World Phenomenon\n",
    "\n",
    "Despite the impact of COVID-19 property prices in Ireland continue to increase year on year. In fact, latest research by Dermot O’Leary of Goodbody precict that house prices are expected to rise by 12.5% in 2021, 5% in 2022 and 4% in 2023 ([1](https://www.irishtimes.com/life-and-style/homes-and-property/average-irish-home-buyer-will-need-90-000-income-by-2023-1.4714161)). Further analysis provided by the Central Statistics Office of Ireland show that the Residential Property Index has increased by 104.4% for areas outside of Dublin since the low point in May 2013 ([2](https://www.cso.ie/en/releasesandpublications/ep/p-rppi/residentialpropertypriceindexaugust2021/))\n",
    "\n",
    "\n",
    "![title](images/figure-13-residential-pr.png)\n",
    "\n",
    "\n",
    "As a married couple who is looking to get on the property ladder here in Letterkenny, County Donegal, this increase in house price index is alarming to say the least. As more companies offer their employees the opportunity to work from home, we have seen an influx of people from outside the county moving here to avail of the lower protperty prices. In a report published in September 2021 it was noted that the increase in house prices in Donegal was the second highest in the country at 8.4%. ([3](https://www.donegaldaily.com/2021/09/27/house-price-rises-in-donegal-are-second-highest-in-country/))"
   ]
  },
  {
   "cell_type": "code",
   "execution_count": null,
   "id": "7fd3a10a-da2c-4042-93b6-54c1d461deb1",
   "metadata": {},
   "outputs": [],
   "source": []
  }
 ],
 "metadata": {
  "kernelspec": {
   "display_name": "Python 3",
   "language": "python",
   "name": "python3"
  },
  "language_info": {
   "codemirror_mode": {
    "name": "ipython",
    "version": 3
   },
   "file_extension": ".py",
   "mimetype": "text/x-python",
   "name": "python",
   "nbconvert_exporter": "python",
   "pygments_lexer": "ipython3",
   "version": "3.8.8"
  }
 },
 "nbformat": 4,
 "nbformat_minor": 5
}

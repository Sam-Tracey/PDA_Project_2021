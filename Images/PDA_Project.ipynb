{
 "cells": [
  {
   "cell_type": "markdown",
   "id": "3dbf5e7e-67c7-4196-81c2-2b342f1847b4",
   "metadata": {},
   "source": [
    "# Programming For Data Analysis Project 2021.\n",
    "\n",
    "## Name: Sam Tracey\n",
    "## Student ID: G00398245\n",
    "## Date: January 2021\n",
    "\n",
    "***\n",
    "\n",
    "# Introduction.\n",
    "\n",
    "The purpose of this project is to create a simulated data set based on a real-world phenomenon. Simulated data is synthetic data that is generated via algortihms rather than data that have been collected in the \"real-world\". The value in simulated data is that it can accurately reflect real world phenomenon mathematically or statistically and, in the Machine Learning Industry it has been found to be as good or even better at training AI models than it's real world counterpart. [1](https://blogs.nvidia.com/blog/2021/06/08/what-is-synthetic-data/)\n",
    "\n",
    "The challenge for us then is to create a synthetic, simulated data set which is represenatative of a real-world phenomenon based on available research and literature.\n",
    "\n",
    "\n",
    "## Real World Phenomenon.\n",
    "\n",
    "I have decided to generate a data set based on lifestyle factors that may increase a person's probability of having heart disease in Ireland.\n",
    "Based on data from the Central Statistics Office (2020). Heart attacks and strokes are still one of the leading causes of mortality in Ireland with 8744 lives being lost to these conditions in 2020.[2]\n",
    "The underlying cause of heart disease, heart attacks and strokes is atherosclerosis (the build up of fatty deposits that form plaques on the inner lining of the blood vessels).[3] The following lifestyle factors have been found to increase the chances of heart attacks [4]:\n",
    "\n",
    "- Age\n",
    "- Sex\n",
    "- Smoking\n",
    "- High Blood Pressure\n",
    "- Diabetes\n",
    "- Alcohol Consuption\n",
    "- Physical Inactivity\n",
    "- Diet\n",
    "- Obesity\n",
    "- Diabetes\n",
    "- Unrelieved Stress\n",
    "\n",
    "Much of the research required for this orject is available in the \"Health Ireland Survey Report 2021\" a copy of which is available [here](http://localhost:8888/files/Data/Health_Ireland_Survey_2021.pdf?_xsrf=2%7Cf7a4eb77%7Cdc69a39ecbea7f6855547c6189bce090%7C1637500309)."
   ]
  },
  {
   "cell_type": "code",
   "execution_count": 2,
   "id": "e82a51e3-fd4c-44f1-b4e5-b86ba81fae12",
   "metadata": {},
   "outputs": [],
   "source": [
    "# Data Analysis and data manipulation.\n",
    "import pandas as pd\n",
    "# Scientific and mathematical computing.\n",
    "import numpy as np\n",
    "# Basic plotting package.\n",
    "import matplotlib.pyplot as plt\n",
    "# Advanced Plotting package.\n",
    "import seaborn as sns"
   ]
  },
  {
   "cell_type": "code",
   "execution_count": null,
   "id": "6bbb4f7b-daad-447b-817c-04998e89d862",
   "metadata": {},
   "outputs": [],
   "source": []
  },
  {
   "cell_type": "code",
   "execution_count": null,
   "id": "e86e56f9-2dd7-445d-80e6-c45debcbe898",
   "metadata": {},
   "outputs": [],
   "source": []
  },
  {
   "cell_type": "code",
   "execution_count": null,
   "id": "d305b4fb-1157-4dd1-929a-c67b915b448a",
   "metadata": {},
   "outputs": [],
   "source": []
  },
  {
   "cell_type": "code",
   "execution_count": null,
   "id": "18bdae04-62c2-4613-ac3d-d457e331ecae",
   "metadata": {},
   "outputs": [],
   "source": []
  },
  {
   "cell_type": "code",
   "execution_count": null,
   "id": "9a3007dc-aa6b-486b-9352-f9ba70c763ad",
   "metadata": {},
   "outputs": [],
   "source": []
  },
  {
   "cell_type": "code",
   "execution_count": null,
   "id": "baee6aa9-ad25-4027-ace9-d1a1dfbcd8fe",
   "metadata": {},
   "outputs": [],
   "source": []
  },
  {
   "cell_type": "code",
   "execution_count": null,
   "id": "32117379-ed70-4eec-a2f3-8ce462872849",
   "metadata": {},
   "outputs": [],
   "source": []
  },
  {
   "cell_type": "code",
   "execution_count": null,
   "id": "4ceea625-2d55-4143-9616-ad0b01e8e26c",
   "metadata": {},
   "outputs": [],
   "source": []
  },
  {
   "cell_type": "code",
   "execution_count": null,
   "id": "f15854a6-f77e-4d54-8549-e07a6459adbb",
   "metadata": {},
   "outputs": [],
   "source": []
  },
  {
   "cell_type": "code",
   "execution_count": null,
   "id": "ed4c7892-0591-4d25-a789-da2b8220641d",
   "metadata": {},
   "outputs": [],
   "source": []
  },
  {
   "cell_type": "code",
   "execution_count": null,
   "id": "e54cae59-faeb-4673-87ed-3063ada92e39",
   "metadata": {},
   "outputs": [],
   "source": []
  },
  {
   "cell_type": "code",
   "execution_count": null,
   "id": "b32a3f9b-1d67-41c7-b744-86fbd55ac543",
   "metadata": {},
   "outputs": [],
   "source": []
  },
  {
   "cell_type": "code",
   "execution_count": null,
   "id": "f02fd3b3-279d-4d34-bc70-ed7d41dbb0c8",
   "metadata": {},
   "outputs": [],
   "source": []
  },
  {
   "cell_type": "code",
   "execution_count": null,
   "id": "4f5d23d2-7b3b-4fcb-8401-16955cba56cc",
   "metadata": {},
   "outputs": [],
   "source": []
  },
  {
   "cell_type": "code",
   "execution_count": null,
   "id": "d1953f51-f60f-4347-8e3b-11cfacb35a8b",
   "metadata": {},
   "outputs": [],
   "source": []
  },
  {
   "cell_type": "code",
   "execution_count": null,
   "id": "28617011-148d-4f26-a0cb-fa78fe746151",
   "metadata": {},
   "outputs": [],
   "source": []
  },
  {
   "cell_type": "code",
   "execution_count": null,
   "id": "03613763-e9dd-45e1-9656-b482f00faba5",
   "metadata": {},
   "outputs": [],
   "source": []
  },
  {
   "cell_type": "code",
   "execution_count": null,
   "id": "d3fd9a02-cffa-40ca-a15e-c39357c5b038",
   "metadata": {},
   "outputs": [],
   "source": []
  },
  {
   "cell_type": "code",
   "execution_count": null,
   "id": "4a73f052-5ca8-4c2c-a80c-d6873dd5f33e",
   "metadata": {},
   "outputs": [],
   "source": []
  },
  {
   "cell_type": "code",
   "execution_count": null,
   "id": "a75eeff0-6741-4007-b948-7c838380b50f",
   "metadata": {},
   "outputs": [],
   "source": []
  },
  {
   "cell_type": "code",
   "execution_count": null,
   "id": "faa5cec6-8e46-4cf4-82cb-23ad2032e0ee",
   "metadata": {},
   "outputs": [],
   "source": []
  },
  {
   "cell_type": "code",
   "execution_count": null,
   "id": "1a0f1777-19b0-4e68-b3f3-7a0f4e66f945",
   "metadata": {},
   "outputs": [],
   "source": []
  },
  {
   "cell_type": "code",
   "execution_count": null,
   "id": "a400eb62-06ca-4cf2-8203-5783f1b8bf2b",
   "metadata": {},
   "outputs": [],
   "source": []
  },
  {
   "cell_type": "code",
   "execution_count": null,
   "id": "8e1fcb68-f1f3-4478-8304-39b2b60b6e79",
   "metadata": {},
   "outputs": [],
   "source": []
  },
  {
   "cell_type": "code",
   "execution_count": null,
   "id": "02acf042-853d-4465-aca9-7fc5a89bb49a",
   "metadata": {},
   "outputs": [],
   "source": []
  },
  {
   "cell_type": "code",
   "execution_count": null,
   "id": "15940735-3007-4675-a5b6-9649d4638f54",
   "metadata": {},
   "outputs": [],
   "source": []
  },
  {
   "cell_type": "code",
   "execution_count": null,
   "id": "a4aeddf2-a085-48de-b49f-d18e61e033ac",
   "metadata": {},
   "outputs": [],
   "source": []
  },
  {
   "cell_type": "code",
   "execution_count": null,
   "id": "2ac5cc2c-beaa-4fb8-bb73-8c5663cf7364",
   "metadata": {},
   "outputs": [],
   "source": []
  },
  {
   "cell_type": "code",
   "execution_count": null,
   "id": "675bd4b3-a38a-4863-9b38-122618ab9422",
   "metadata": {},
   "outputs": [],
   "source": []
  },
  {
   "cell_type": "code",
   "execution_count": null,
   "id": "efb3843c-923c-4bfb-a481-01d569d74a4b",
   "metadata": {},
   "outputs": [],
   "source": []
  },
  {
   "cell_type": "code",
   "execution_count": null,
   "id": "28b0c428-ffb8-4f37-a229-0801cd3aab6a",
   "metadata": {},
   "outputs": [],
   "source": []
  },
  {
   "cell_type": "code",
   "execution_count": null,
   "id": "085c6f70-2f22-4baf-b884-6ff25462e947",
   "metadata": {},
   "outputs": [],
   "source": []
  },
  {
   "cell_type": "code",
   "execution_count": null,
   "id": "12177c2b-b2c7-4f7c-8d6b-ecaf2902fd4e",
   "metadata": {},
   "outputs": [],
   "source": []
  },
  {
   "cell_type": "code",
   "execution_count": null,
   "id": "d0c34659-d4d6-4c65-a542-489aaa340174",
   "metadata": {},
   "outputs": [],
   "source": []
  },
  {
   "cell_type": "code",
   "execution_count": null,
   "id": "f0d51724-9eee-4910-84dd-d0b2c7a7e2ae",
   "metadata": {},
   "outputs": [],
   "source": []
  },
  {
   "cell_type": "code",
   "execution_count": null,
   "id": "d11bc074-f29f-4a47-9dcd-71af6e6502f9",
   "metadata": {},
   "outputs": [],
   "source": []
  },
  {
   "cell_type": "code",
   "execution_count": null,
   "id": "e12870ed-1781-499d-b994-c2373928f931",
   "metadata": {},
   "outputs": [],
   "source": []
  },
  {
   "cell_type": "code",
   "execution_count": null,
   "id": "ac0a1e84-71ed-4915-986a-6afcd52fa4ee",
   "metadata": {},
   "outputs": [],
   "source": []
  },
  {
   "cell_type": "code",
   "execution_count": null,
   "id": "19d4b3ae-bd85-4546-95fe-d744280463ef",
   "metadata": {},
   "outputs": [],
   "source": []
  },
  {
   "cell_type": "code",
   "execution_count": null,
   "id": "ef24820f-f70b-4d16-ad4b-7e91f4869e5b",
   "metadata": {},
   "outputs": [],
   "source": []
  },
  {
   "cell_type": "code",
   "execution_count": null,
   "id": "60721f46-d683-4030-b3ce-1b716d8112d5",
   "metadata": {},
   "outputs": [],
   "source": []
  },
  {
   "cell_type": "code",
   "execution_count": null,
   "id": "8b9a7d4f-0c16-41f1-ada3-921f40bdb6a3",
   "metadata": {},
   "outputs": [],
   "source": []
  },
  {
   "cell_type": "code",
   "execution_count": null,
   "id": "a51c35c5-65c3-4284-acd8-65e9f777d4e9",
   "metadata": {},
   "outputs": [],
   "source": []
  },
  {
   "cell_type": "code",
   "execution_count": null,
   "id": "945f1030-7047-4368-90c0-a14ec6bb1b9e",
   "metadata": {},
   "outputs": [],
   "source": []
  },
  {
   "cell_type": "code",
   "execution_count": null,
   "id": "c333f217-33a8-4f03-a5ba-491e607eaf08",
   "metadata": {},
   "outputs": [],
   "source": []
  },
  {
   "cell_type": "code",
   "execution_count": null,
   "id": "486f6b19-14cb-4e21-bbd9-65a88ffaf2d3",
   "metadata": {},
   "outputs": [],
   "source": []
  },
  {
   "cell_type": "markdown",
   "id": "fea7c1ec-0837-4bc1-ba3d-0e69a3a9e544",
   "metadata": {},
   "source": [
    "## References.\n",
    "\n",
    "[1] Andrews, G. What Is Synthetic Data? (2021). Available at: https://blogs.nvidia.com/blog/2021/06/08/what-is-synthetic-data/ accessed December 2021.\n",
    "\n",
    "[2] Shannon, J. Decline in deaths from heart disease and stroke in 2020 (2021). Available at: https://irishheart.ie/news/decline-in-deaths-from-heart-disease-and-stroke-in-2020/ accessed December 2021.\n",
    "\n",
    "[3] Irish Heart.ie, Cardiovascular Disease (2021) Available at: https://irishheart.ie/heart-and-stroke-conditions-a-z/cardiovascular-disease/#section-causes accessed December 2021.\n",
    "\n",
    "[4] Irish Heart.ie, Cardiovascular Disease (2021) Available at: https://irishheart.ie/heart-and-stroke-conditions-a-z/cardiovascular-disease/#section-causes accessed December 2021.\n",
    "\n",
    "[5]\n",
    "\n"
   ]
  }
 ],
 "metadata": {
  "kernelspec": {
   "display_name": "Python 3",
   "language": "python",
   "name": "python3"
  },
  "language_info": {
   "codemirror_mode": {
    "name": "ipython",
    "version": 3
   },
   "file_extension": ".py",
   "mimetype": "text/x-python",
   "name": "python",
   "nbconvert_exporter": "python",
   "pygments_lexer": "ipython3",
   "version": "3.8.8"
  }
 },
 "nbformat": 4,
 "nbformat_minor": 5
}
